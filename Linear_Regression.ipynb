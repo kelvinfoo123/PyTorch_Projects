{
  "nbformat": 4,
  "nbformat_minor": 0,
  "metadata": {
    "colab": {
      "provenance": [],
      "authorship_tag": "ABX9TyO0HkBBjdwaGS+RFXqcMUgn",
      "include_colab_link": true
    },
    "kernelspec": {
      "name": "python3",
      "display_name": "Python 3"
    },
    "language_info": {
      "name": "python"
    }
  },
  "cells": [
    {
      "cell_type": "markdown",
      "metadata": {
        "id": "view-in-github",
        "colab_type": "text"
      },
      "source": [
        "<a href=\"https://colab.research.google.com/github/kelvinfoo123/PyTorch_Projects/blob/main/Linear_Regression.ipynb\" target=\"_parent\"><img src=\"https://colab.research.google.com/assets/colab-badge.svg\" alt=\"Open In Colab\"/></a>"
      ]
    },
    {
      "cell_type": "markdown",
      "source": [
        "**Linear Regression**"
      ],
      "metadata": {
        "id": "DpBqmMGiGOIT"
      }
    },
    {
      "cell_type": "code",
      "execution_count": 2,
      "metadata": {
        "id": "FrmjqmDFFAIB"
      },
      "outputs": [],
      "source": [
        "import torch \n",
        "import numpy as np \n",
        "import torch.nn as nn \n",
        "from sklearn import datasets \n",
        "import matplotlib.pyplot as plt "
      ]
    },
    {
      "cell_type": "code",
      "source": [
        "# Generate dataset \n",
        "x_numpy, y_numpy = datasets.make_regression(n_samples = 100, n_features = 1, noise = 20, random_state = 1)\n",
        "\n",
        "X = torch.from_numpy(x_numpy.astype(np.float32))\n",
        "y = torch.from_numpy(y_numpy.astype(np.float32))\n",
        "\n",
        "y = y.view(y.shape[0], 1) # Reshape y into a tensor with 1 column\n",
        "\n",
        "n_samples, n_features = X.shape "
      ],
      "metadata": {
        "id": "3Xuo8FAIGs7v"
      },
      "execution_count": 3,
      "outputs": []
    },
    {
      "cell_type": "code",
      "source": [
        "# Build model \n",
        "input_size = n_features \n",
        "output_size = 1 \n",
        "\n",
        "model = nn.Linear(input_size, output_size)"
      ],
      "metadata": {
        "id": "7oWhFJ28HUG9"
      },
      "execution_count": 5,
      "outputs": []
    },
    {
      "cell_type": "code",
      "source": [
        "# Loss and optimizer \n",
        "learning_rate = 0.01 \n",
        "\n",
        "criterion = nn.MSELoss() # Mean squared error loss \n",
        "optimizer = torch.optim.SGD(model.parameters(), lr = learning_rate)"
      ],
      "metadata": {
        "id": "33t4XM_XHp40"
      },
      "execution_count": 7,
      "outputs": []
    },
    {
      "cell_type": "code",
      "source": [
        "# Training loop \n",
        "num_epochs = 100 \n",
        "\n",
        "for epoch in range(num_epochs): \n",
        "  # Forward pass\n",
        "  y_predicted = model(X)\n",
        "  loss = criterion(y_predicted, y)\n",
        "  \n",
        "  # Backward pass \n",
        "  loss.backward()\n",
        "\n",
        "  # Update \n",
        "  optimizer.step()\n",
        "  optimizer.zero_grad()\n",
        "\n",
        "  [w,b] = model.parameters()\n",
        "  print(f'epoch {epoch + 1}: w ={w[0][0].item():.3f}, loss = {loss:.4f}')"
      ],
      "metadata": {
        "colab": {
          "base_uri": "https://localhost:8080/"
        },
        "id": "9Jju8IBXH_dF",
        "outputId": "58581730-78cf-4d7a-9647-d3dd10fd5e92"
      },
      "execution_count": 10,
      "outputs": [
        {
          "output_type": "stream",
          "name": "stdout",
          "text": [
            "epoch 1: w =3.005, loss = 5524.7964\n",
            "epoch 2: w =4.261, loss = 5359.9023\n",
            "epoch 3: w =5.497, loss = 5200.2949\n",
            "epoch 4: w =6.713, loss = 5045.8042\n",
            "epoch 5: w =7.910, loss = 4896.2632\n",
            "epoch 6: w =9.089, loss = 4751.5117\n",
            "epoch 7: w =10.248, loss = 4611.3945\n",
            "epoch 8: w =11.389, loss = 4475.7612\n",
            "epoch 9: w =12.512, loss = 4344.4678\n",
            "epoch 10: w =13.617, loss = 4217.3730\n",
            "epoch 11: w =14.704, loss = 4094.3413\n",
            "epoch 12: w =15.774, loss = 3975.2407\n",
            "epoch 13: w =16.827, loss = 3859.9456\n",
            "epoch 14: w =17.863, loss = 3748.3323\n",
            "epoch 15: w =18.883, loss = 3640.2815\n",
            "epoch 16: w =19.887, loss = 3535.6790\n",
            "epoch 17: w =20.875, loss = 3434.4141\n",
            "epoch 18: w =21.847, loss = 3336.3774\n",
            "epoch 19: w =22.803, loss = 3241.4663\n",
            "epoch 20: w =23.745, loss = 3149.5801\n",
            "epoch 21: w =24.671, loss = 3060.6206\n",
            "epoch 22: w =25.583, loss = 2974.4944\n",
            "epoch 23: w =26.480, loss = 2891.1096\n",
            "epoch 24: w =27.363, loss = 2810.3787\n",
            "epoch 25: w =28.232, loss = 2732.2158\n",
            "epoch 26: w =29.088, loss = 2656.5391\n",
            "epoch 27: w =29.929, loss = 2583.2683\n",
            "epoch 28: w =30.758, loss = 2512.3262\n",
            "epoch 29: w =31.573, loss = 2443.6382\n",
            "epoch 30: w =32.375, loss = 2377.1316\n",
            "epoch 31: w =33.165, loss = 2312.7363\n",
            "epoch 32: w =33.942, loss = 2250.3862\n",
            "epoch 33: w =34.706, loss = 2190.0142\n",
            "epoch 34: w =35.459, loss = 2131.5569\n",
            "epoch 35: w =36.200, loss = 2074.9534\n",
            "epoch 36: w =36.929, loss = 2020.1450\n",
            "epoch 37: w =37.646, loss = 1967.0730\n",
            "epoch 38: w =38.352, loss = 1915.6829\n",
            "epoch 39: w =39.047, loss = 1865.9202\n",
            "epoch 40: w =39.731, loss = 1817.7334\n",
            "epoch 41: w =40.404, loss = 1771.0719\n",
            "epoch 42: w =41.066, loss = 1725.8868\n",
            "epoch 43: w =41.718, loss = 1682.1317\n",
            "epoch 44: w =42.360, loss = 1639.7601\n",
            "epoch 45: w =42.991, loss = 1598.7284\n",
            "epoch 46: w =43.612, loss = 1558.9937\n",
            "epoch 47: w =44.224, loss = 1520.5144\n",
            "epoch 48: w =44.826, loss = 1483.2505\n",
            "epoch 49: w =45.418, loss = 1447.1641\n",
            "epoch 50: w =46.001, loss = 1412.2166\n",
            "epoch 51: w =46.575, loss = 1378.3727\n",
            "epoch 52: w =47.140, loss = 1345.5962\n",
            "epoch 53: w =47.695, loss = 1313.8544\n",
            "epoch 54: w =48.242, loss = 1283.1133\n",
            "epoch 55: w =48.781, loss = 1253.3419\n",
            "epoch 56: w =49.310, loss = 1224.5087\n",
            "epoch 57: w =49.832, loss = 1196.5844\n",
            "epoch 58: w =50.345, loss = 1169.5397\n",
            "epoch 59: w =50.850, loss = 1143.3470\n",
            "epoch 60: w =51.347, loss = 1117.9792\n",
            "epoch 61: w =51.837, loss = 1093.4100\n",
            "epoch 62: w =52.318, loss = 1069.6140\n",
            "epoch 63: w =52.792, loss = 1046.5668\n",
            "epoch 64: w =53.258, loss = 1024.2449\n",
            "epoch 65: w =53.718, loss = 1002.6246\n",
            "epoch 66: w =54.169, loss = 981.6844\n",
            "epoch 67: w =54.614, loss = 961.4024\n",
            "epoch 68: w =55.052, loss = 941.7579\n",
            "epoch 69: w =55.482, loss = 922.7307\n",
            "epoch 70: w =55.906, loss = 904.3010\n",
            "epoch 71: w =56.324, loss = 886.4503\n",
            "epoch 72: w =56.734, loss = 869.1601\n",
            "epoch 73: w =57.139, loss = 852.4127\n",
            "epoch 74: w =57.536, loss = 836.1909\n",
            "epoch 75: w =57.928, loss = 820.4781\n",
            "epoch 76: w =58.313, loss = 805.2581\n",
            "epoch 77: w =58.693, loss = 790.5157\n",
            "epoch 78: w =59.066, loss = 776.2354\n",
            "epoch 79: w =59.433, loss = 762.4030\n",
            "epoch 80: w =59.795, loss = 749.0039\n",
            "epoch 81: w =60.151, loss = 736.0247\n",
            "epoch 82: w =60.501, loss = 723.4523\n",
            "epoch 83: w =60.846, loss = 711.2735\n",
            "epoch 84: w =61.185, loss = 699.4763\n",
            "epoch 85: w =61.519, loss = 688.0483\n",
            "epoch 86: w =61.848, loss = 676.9782\n",
            "epoch 87: w =62.172, loss = 666.2545\n",
            "epoch 88: w =62.490, loss = 655.8663\n",
            "epoch 89: w =62.804, loss = 645.8032\n",
            "epoch 90: w =63.112, loss = 636.0547\n",
            "epoch 91: w =63.416, loss = 626.6111\n",
            "epoch 92: w =63.715, loss = 617.4628\n",
            "epoch 93: w =64.009, loss = 608.6004\n",
            "epoch 94: w =64.298, loss = 600.0151\n",
            "epoch 95: w =64.583, loss = 591.6981\n",
            "epoch 96: w =64.864, loss = 583.6409\n",
            "epoch 97: w =65.140, loss = 575.8354\n",
            "epoch 98: w =65.412, loss = 568.2736\n",
            "epoch 99: w =65.679, loss = 560.9480\n",
            "epoch 100: w =65.942, loss = 553.8511\n"
          ]
        }
      ]
    },
    {
      "cell_type": "code",
      "source": [
        "predicted = model(X).detach().numpy()\n",
        "plt.plot(x_numpy, y_numpy, 'ro')\n",
        "plt.plot(x_numpy, predicted, 'b')\n",
        "plt.show()"
      ],
      "metadata": {
        "colab": {
          "base_uri": "https://localhost:8080/",
          "height": 265
        },
        "id": "KUsY_LDaI0pF",
        "outputId": "c5f363f1-8da6-4a5d-9f0c-40a715090284"
      },
      "execution_count": 12,
      "outputs": [
        {
          "output_type": "display_data",
          "data": {
            "text/plain": [
              "<Figure size 432x288 with 1 Axes>"
            ],
            "image/png": "[encoded data removed]"
          },
          "metadata": {
            "needs_background": "light"
          }
        }
      ]
    }
  ]
}